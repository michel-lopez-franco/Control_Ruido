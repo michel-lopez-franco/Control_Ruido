{
 "cells": [
  {
   "cell_type": "code",
   "execution_count": null,
   "metadata": {},
   "outputs": [],
   "source": []
  },
  {
   "cell_type": "code",
   "execution_count": null,
   "metadata": {},
   "outputs": [],
   "source": []
  },
  {
   "cell_type": "code",
   "execution_count": 1,
   "metadata": {},
   "outputs": [
    {
     "data": {
      "application/vnd.jupyter.widget-view+json": {
       "model_id": "97c18a4f8b6e42a1a83d4b4a7866df79",
       "version_major": 2,
       "version_minor": 0
      },
      "text/plain": [
       "ColorPicker(value='blue', description='Elige un color')"
      ]
     },
     "metadata": {},
     "output_type": "display_data"
    }
   ],
   "source": [
    "import ipywidgets as widgets\n",
    "from IPython.display import display\n",
    "\n",
    "# Crear un widget de selección de color\n",
    "color_picker = widgets.ColorPicker(\n",
    "    description='Elige un color',\n",
    "    value='blue'\n",
    ")\n",
    "\n",
    "# Mostrar el widget\n",
    "display(color_picker)"
   ]
  },
  {
   "cell_type": "code",
   "execution_count": 3,
   "metadata": {},
   "outputs": [],
   "source": [
    "# Resaltar texto\n",
    "resaltar_text= \"009dff\""
   ]
  },
  {
   "cell_type": "markdown",
   "metadata": {},
   "source": [
    "Para añadir color a un texto en LaTeX, puedes usar el paquete `xcolor`. Aquí tienes un ejemplo de cómo hacerlo:\n",
    "\n",
    "```markdown\n",
    "```latex\n",
    "\\documentclass{article}\n",
    "\\usepackage{xcolor}\n",
    "\n",
    "\\begin{document}\n",
    "\n",
    "\\textcolor{#009dff}{Este es un texto resaltado en color.}\n",
    "\n",
    "\\end{document}\n",
    "```\n",
    "```"
   ]
  },
  {
   "cell_type": "markdown",
   "metadata": {},
   "source": [
    "Para añadir color a un texto en Markdown, puedes usar HTML. Aquí tienes un ejemplo de cómo hacerlo:\n",
    "\n",
    "```markdown\n",
    "<span style=\"color:#009dff\">Este es un texto resaltado en color.</span>\n",
    "```\n",
    "<span style=\"color:#009dff\">Este es un texto resaltado en color.</span>"
   ]
  },
  {
   "cell_type": "code",
   "execution_count": 4,
   "metadata": {},
   "outputs": [],
   "source": [
    "resaltar_text= \"006dff\""
   ]
  },
  {
   "cell_type": "markdown",
   "metadata": {},
   "source": [
    "\n",
    "<span style=\"color:#53bcfd\">Este es un texto resaltado en color.</span>\n"
   ]
  },
  {
   "cell_type": "code",
   "execution_count": null,
   "metadata": {},
   "outputs": [],
   "source": []
  },
  {
   "cell_type": "markdown",
   "metadata": {},
   "source": [
    "<div style=\"color:#009dff\">\n",
    "$$\n",
    "u = mL^2\\big(\\ddot{\\theta}_r - k_1(\\dot{\\theta} - \\dot{\\theta}_r) - k_2(\\theta - \\theta_r) + \\frac{b}{mL^2}\\dot{\\theta} + \\frac{g}{L}\\sin(\\theta)\\big)\n",
    "$$\n",
    "</div>"
   ]
  },
  {
   "cell_type": "markdown",
   "metadata": {},
   "source": [
    "$$\n",
    "\\textcolor{#009dff}{u = mL^2\\big(\\ddot{\\theta}_r - k_1(\\dot{\\theta} - \\dot{\\theta}_r) - k_2(\\theta - \\theta_r) + \\frac{b}{mL^2}\\dot{\\theta} + \\frac{g}{L}\\sin(\\theta)\\big)}\n",
    "$$"
   ]
  },
  {
   "cell_type": "markdown",
   "metadata": {},
   "source": [
    "<div style=\"color:#53bcfd\">Este es un texto resaltado en color.</div>"
   ]
  },
  {
   "cell_type": "markdown",
   "metadata": {},
   "source": [
    "# Añadir colores markdown"
   ]
  },
  {
   "cell_type": "markdown",
   "metadata": {},
   "source": [
    "opcion 1\n",
    "\n",
    "```markdown\n",
    "<span style=\"color:#53bcfd\">Este es un texto resaltado en color.</span>\n",
    "```\n",
    "\n",
    "opcion 2\n",
    "```markdown\n",
    "<div style=\"color:#53bcfd\">Este es un texto resaltado en color.</div>\n",
    "```\n",
    "\n",
    "opcion 3\n",
    "\n",
    "```markdown\n",
    "$$\n",
    "\\textcolor{#009dff}{u = mL^2\\big(\\ddot{\\theta}_r - k_1(\\dot{\\theta} - \\dot{\\theta}_r) - k_2(\\theta - \\theta_r) + \\frac{b}{mL^2}\\dot{\\theta} + \\frac{g}{L}\\sin(\\theta)\\big)}\n",
    "$$\n",
    "```"
   ]
  },
  {
   "cell_type": "markdown",
   "metadata": {},
   "source": []
  }
 ],
 "metadata": {
  "kernelspec": {
   "display_name": "mi_filters",
   "language": "python",
   "name": "python3"
  },
  "language_info": {
   "codemirror_mode": {
    "name": "ipython",
    "version": 3
   },
   "file_extension": ".py",
   "mimetype": "text/x-python",
   "name": "python",
   "nbconvert_exporter": "python",
   "pygments_lexer": "ipython3",
   "version": "3.12.7"
  }
 },
 "nbformat": 4,
 "nbformat_minor": 2
}
